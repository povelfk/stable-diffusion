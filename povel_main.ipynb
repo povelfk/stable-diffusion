{
 "cells": [
  {
   "cell_type": "code",
   "execution_count": null,
   "metadata": {},
   "outputs": [
    {
     "ename": "",
     "evalue": "",
     "output_type": "error",
     "traceback": [
      "\u001b[1;31mFailed to start the Kernel. \n",
      "\u001b[1;31mAttributeError: 'SelectIOLoop' object has no attribute 'asyncio_loop'. \n",
      "\u001b[1;31mView Jupyter <a href='command:jupyter.viewOutput'>log</a> for further details."
     ]
    }
   ],
   "source": [
    "!pip install diffusers==0.2.4\n",
    "!pip install transformers scipy ftfy\n",
    "!pip install \"ipywidgets>=7,<8\""
   ]
  },
  {
   "cell_type": "code",
   "execution_count": null,
   "metadata": {},
   "outputs": [
    {
     "ename": "",
     "evalue": "",
     "output_type": "error",
     "traceback": [
      "\u001b[1;31mFailed to start the Kernel. \n",
      "\u001b[1;31mAttributeError: 'SelectIOLoop' object has no attribute 'asyncio_loop'. \n",
      "\u001b[1;31mView Jupyter <a href='command:jupyter.viewOutput'>log</a> for further details."
     ]
    }
   ],
   "source": [
    "import os\n",
    "from PIL import Image, ImageDraw\n",
    "import cv2\n",
    "import numpy as np\n",
    "from IPython.display import HTML\n",
    "from base64 import b64encode\n",
    "\n",
    "import torch\n",
    "from torch import autocast\n",
    "from torch.nn import functional as F\n",
    "from diffusers import StableDiffusionPipeline, AutoencoderKL\n",
    "from diffusers import UNet2DConditionModel, PNDMScheduler, LMSDiscreteScheduler\n",
    "from diffusers.schedulers.scheduling_ddim import DDIMScheduler\n",
    "from transformers import CLIPTextModel, CLIPTokenizer\n",
    "from tqdm.auto import tqdm\n",
    "from huggingface_hub import notebook_login\n",
    "# from google.colab import output\n",
    "\n",
    "device = \"cuda\"\n",
    "\n",
    "# output.enable_custom_widget_manager()\n",
    "notebook_login()"
   ]
  },
  {
   "cell_type": "code",
   "execution_count": null,
   "metadata": {},
   "outputs": [
    {
     "data": {
      "application/vnd.jupyter.widget-view+json": {
       "model_id": "5dccd7ed98b5425688ab4971bc232b5a",
       "version_major": 2,
       "version_minor": 0
      },
      "text/plain": [
       "Fetching 19 files:   0%|          | 0/19 [00:00<?, ?it/s]"
      ]
     },
     "metadata": {},
     "output_type": "display_data"
    },
    {
     "ename": "TypeError",
     "evalue": "getattr(): attribute name must be string",
     "output_type": "error",
     "traceback": [
      "\u001b[1;31m---------------------------------------------------------------------------\u001b[0m",
      "\u001b[1;31mTypeError\u001b[0m                                 Traceback (most recent call last)",
      "Cell \u001b[1;32mIn [17], line 2\u001b[0m\n\u001b[0;32m      1\u001b[0m \u001b[39m# make sure you're logged in with `huggingface-cli login`\u001b[39;00m\n\u001b[1;32m----> 2\u001b[0m pipe \u001b[39m=\u001b[39m StableDiffusionPipeline\u001b[39m.\u001b[39;49mfrom_pretrained(\n\u001b[0;32m      3\u001b[0m     \u001b[39m'\u001b[39;49m\u001b[39mCompVis/stable-diffusion-v1-4\u001b[39;49m\u001b[39m'\u001b[39;49m, revision\u001b[39m=\u001b[39;49m\u001b[39m'\u001b[39;49m\u001b[39mfp16\u001b[39;49m\u001b[39m'\u001b[39;49m,\n\u001b[0;32m      4\u001b[0m     torch_dtype\u001b[39m=\u001b[39;49mtorch\u001b[39m.\u001b[39;49mfloat16, use_auth_token\u001b[39m=\u001b[39;49m\u001b[39mTrue\u001b[39;49;00m)\n\u001b[0;32m      5\u001b[0m pipe \u001b[39m=\u001b[39m pipe\u001b[39m.\u001b[39mto(device)\n",
      "File \u001b[1;32mc:\\Users\\Povel\\AppData\\Local\\Programs\\Python\\Python310\\lib\\site-packages\\diffusers\\pipeline_utils.py:239\u001b[0m, in \u001b[0;36mDiffusionPipeline.from_pretrained\u001b[1;34m(cls, pretrained_model_name_or_path, **kwargs)\u001b[0m\n\u001b[0;32m    236\u001b[0m     \u001b[39mif\u001b[39;00m \u001b[39missubclass\u001b[39m(class_obj, class_candidate):\n\u001b[0;32m    237\u001b[0m         load_method_name \u001b[39m=\u001b[39m importable_classes[class_name][\u001b[39m1\u001b[39m]\n\u001b[1;32m--> 239\u001b[0m load_method \u001b[39m=\u001b[39m \u001b[39mgetattr\u001b[39;49m(class_obj, load_method_name)\n\u001b[0;32m    241\u001b[0m loading_kwargs \u001b[39m=\u001b[39m {}\n\u001b[0;32m    242\u001b[0m \u001b[39mif\u001b[39;00m \u001b[39missubclass\u001b[39m(class_obj, torch\u001b[39m.\u001b[39mnn\u001b[39m.\u001b[39mModule):\n",
      "\u001b[1;31mTypeError\u001b[0m: getattr(): attribute name must be string"
     ]
    }
   ],
   "source": [
    "# make sure you're logged in with `huggingface-cli login`\n",
    "pipe = StableDiffusionPipeline.from_pretrained(\n",
    "    'CompVis/stable-diffusion-v1-4', revision='fp16',\n",
    "    torch_dtype=torch.float16, use_auth_token=True)\n",
    "pipe = pipe.to(device)"
   ]
  },
  {
   "cell_type": "code",
   "execution_count": null,
   "metadata": {},
   "outputs": [],
   "source": []
  }
 ],
 "metadata": {
  "kernelspec": {
   "display_name": "Python 3",
   "language": "python",
   "name": "python3"
  },
  "language_info": {
   "codemirror_mode": {
    "name": "ipython",
    "version": 3
   },
   "file_extension": ".py",
   "mimetype": "text/x-python",
   "name": "python",
   "nbconvert_exporter": "python",
   "pygments_lexer": "ipython3",
   "version": "3.10.7 (tags/v3.10.7:6cc6b13, Sep  5 2022, 14:08:36) [MSC v.1933 64 bit (AMD64)]"
  },
  "orig_nbformat": 4,
  "vscode": {
   "interpreter": {
    "hash": "73d5e3640b769d179ef40f805b01abe0ba1b8798077066356d64c62e76a62000"
   }
  }
 },
 "nbformat": 4,
 "nbformat_minor": 2
}
